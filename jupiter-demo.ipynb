{
 "cells": [
  {
   "cell_type": "code",
   "execution_count": 1,
   "metadata": {},
   "outputs": [],
   "source": [
    "%%capture\n",
    "from romeapi import Cybex\n",
    "cybex = Cybex(accountName='cybexdemo', password='cybexdemo')"
   ]
  },
  {
   "cell_type": "code",
   "execution_count": 2,
   "metadata": {
    "scrolled": true
   },
   "outputs": [],
   "source": [
    "result = cybex.fetch_ohlcv('ETH/USDT', interval='1m', limit=15)"
   ]
  },
  {
   "cell_type": "code",
   "execution_count": 3,
   "metadata": {},
   "outputs": [
    {
     "data": {
      "text/html": [
       "<div>\n",
       "<style scoped>\n",
       "    .dataframe tbody tr th:only-of-type {\n",
       "        vertical-align: middle;\n",
       "    }\n",
       "\n",
       "    .dataframe tbody tr th {\n",
       "        vertical-align: top;\n",
       "    }\n",
       "\n",
       "    .dataframe thead th {\n",
       "        text-align: right;\n",
       "    }\n",
       "</style>\n",
       "<table border=\"1\" class=\"dataframe\">\n",
       "  <thead>\n",
       "    <tr style=\"text-align: right;\">\n",
       "      <th></th>\n",
       "      <th>time</th>\n",
       "      <th>open</th>\n",
       "      <th>high</th>\n",
       "      <th>low</th>\n",
       "      <th>close</th>\n",
       "    </tr>\n",
       "  </thead>\n",
       "  <tbody>\n",
       "    <tr>\n",
       "      <th>0</th>\n",
       "      <td>2019-06-24 09:30:00</td>\n",
       "      <td>309.760</td>\n",
       "      <td>309.760</td>\n",
       "      <td>309.760</td>\n",
       "      <td>309.760</td>\n",
       "    </tr>\n",
       "    <tr>\n",
       "      <th>1</th>\n",
       "      <td>2019-06-24 09:29:00</td>\n",
       "      <td>309.760</td>\n",
       "      <td>309.760</td>\n",
       "      <td>309.760</td>\n",
       "      <td>309.760</td>\n",
       "    </tr>\n",
       "    <tr>\n",
       "      <th>2</th>\n",
       "      <td>2019-06-24 09:28:00</td>\n",
       "      <td>309.760</td>\n",
       "      <td>309.760</td>\n",
       "      <td>309.760</td>\n",
       "      <td>309.760</td>\n",
       "    </tr>\n",
       "    <tr>\n",
       "      <th>3</th>\n",
       "      <td>2019-06-24 09:27:00</td>\n",
       "      <td>308.059</td>\n",
       "      <td>309.952</td>\n",
       "      <td>308.059</td>\n",
       "      <td>309.952</td>\n",
       "    </tr>\n",
       "    <tr>\n",
       "      <th>4</th>\n",
       "      <td>2019-06-24 09:26:00</td>\n",
       "      <td>307.628</td>\n",
       "      <td>307.628</td>\n",
       "      <td>307.628</td>\n",
       "      <td>307.628</td>\n",
       "    </tr>\n",
       "    <tr>\n",
       "      <th>5</th>\n",
       "      <td>2019-06-24 09:25:00</td>\n",
       "      <td>307.858</td>\n",
       "      <td>307.858</td>\n",
       "      <td>307.858</td>\n",
       "      <td>307.858</td>\n",
       "    </tr>\n",
       "    <tr>\n",
       "      <th>6</th>\n",
       "      <td>2019-06-24 09:24:00</td>\n",
       "      <td>307.920</td>\n",
       "      <td>307.920</td>\n",
       "      <td>307.858</td>\n",
       "      <td>307.858</td>\n",
       "    </tr>\n",
       "    <tr>\n",
       "      <th>7</th>\n",
       "      <td>2019-06-24 09:23:00</td>\n",
       "      <td>307.710</td>\n",
       "      <td>307.710</td>\n",
       "      <td>307.710</td>\n",
       "      <td>307.710</td>\n",
       "    </tr>\n",
       "    <tr>\n",
       "      <th>8</th>\n",
       "      <td>2019-06-24 09:22:00</td>\n",
       "      <td>307.710</td>\n",
       "      <td>307.710</td>\n",
       "      <td>307.710</td>\n",
       "      <td>307.710</td>\n",
       "    </tr>\n",
       "    <tr>\n",
       "      <th>9</th>\n",
       "      <td>2019-06-24 09:21:00</td>\n",
       "      <td>307.760</td>\n",
       "      <td>307.760</td>\n",
       "      <td>307.710</td>\n",
       "      <td>307.710</td>\n",
       "    </tr>\n",
       "    <tr>\n",
       "      <th>10</th>\n",
       "      <td>2019-06-24 09:20:00</td>\n",
       "      <td>307.603</td>\n",
       "      <td>307.603</td>\n",
       "      <td>307.497</td>\n",
       "      <td>307.497</td>\n",
       "    </tr>\n",
       "    <tr>\n",
       "      <th>11</th>\n",
       "      <td>2019-06-24 09:19:00</td>\n",
       "      <td>307.910</td>\n",
       "      <td>307.910</td>\n",
       "      <td>307.910</td>\n",
       "      <td>307.910</td>\n",
       "    </tr>\n",
       "    <tr>\n",
       "      <th>12</th>\n",
       "      <td>2019-06-24 09:18:00</td>\n",
       "      <td>308.256</td>\n",
       "      <td>308.256</td>\n",
       "      <td>307.980</td>\n",
       "      <td>307.980</td>\n",
       "    </tr>\n",
       "    <tr>\n",
       "      <th>13</th>\n",
       "      <td>2019-06-24 09:17:00</td>\n",
       "      <td>307.983</td>\n",
       "      <td>308.070</td>\n",
       "      <td>307.981</td>\n",
       "      <td>308.070</td>\n",
       "    </tr>\n",
       "    <tr>\n",
       "      <th>14</th>\n",
       "      <td>2019-06-24 09:16:00</td>\n",
       "      <td>308.298</td>\n",
       "      <td>308.298</td>\n",
       "      <td>308.036</td>\n",
       "      <td>308.036</td>\n",
       "    </tr>\n",
       "  </tbody>\n",
       "</table>\n",
       "</div>"
      ],
      "text/plain": [
       "                  time     open     high      low    close\n",
       "0  2019-06-24 09:30:00  309.760  309.760  309.760  309.760\n",
       "1  2019-06-24 09:29:00  309.760  309.760  309.760  309.760\n",
       "2  2019-06-24 09:28:00  309.760  309.760  309.760  309.760\n",
       "3  2019-06-24 09:27:00  308.059  309.952  308.059  309.952\n",
       "4  2019-06-24 09:26:00  307.628  307.628  307.628  307.628\n",
       "5  2019-06-24 09:25:00  307.858  307.858  307.858  307.858\n",
       "6  2019-06-24 09:24:00  307.920  307.920  307.858  307.858\n",
       "7  2019-06-24 09:23:00  307.710  307.710  307.710  307.710\n",
       "8  2019-06-24 09:22:00  307.710  307.710  307.710  307.710\n",
       "9  2019-06-24 09:21:00  307.760  307.760  307.710  307.710\n",
       "10 2019-06-24 09:20:00  307.603  307.603  307.497  307.497\n",
       "11 2019-06-24 09:19:00  307.910  307.910  307.910  307.910\n",
       "12 2019-06-24 09:18:00  308.256  308.256  307.980  307.980\n",
       "13 2019-06-24 09:17:00  307.983  308.070  307.981  308.070\n",
       "14 2019-06-24 09:16:00  308.298  308.298  308.036  308.036"
      ]
     },
     "execution_count": 3,
     "metadata": {},
     "output_type": "execute_result"
    }
   ],
   "source": [
    "import numpy as np\n",
    "import pandas as pd\n",
    "ar = np.array(result)\n",
    "df = pd.DataFrame({'time':ar[:,0],'open':ar[:,1], 'high':ar[:,2], 'low':ar[:,3], 'close':ar[:,4]})\n",
    "df['time'] = pd.to_datetime(df['time'], unit='ms')\n",
    "df"
   ]
  },
  {
   "cell_type": "code",
   "execution_count": 4,
   "metadata": {},
   "outputs": [
    {
     "data": {
      "text/html": [
       "        <script type=\"text/javascript\">\n",
       "        window.PlotlyConfig = {MathJaxConfig: 'local'};\n",
       "        if (window.MathJax) {MathJax.Hub.Config({SVG: {font: \"STIX-Web\"}});}\n",
       "        if (typeof require !== 'undefined') {\n",
       "        require.undef(\"plotly\");\n",
       "        requirejs.config({\n",
       "            paths: {\n",
       "                'plotly': ['https://cdn.plot.ly/plotly-latest.min']\n",
       "            }\n",
       "        });\n",
       "        require(['plotly'], function(Plotly) {\n",
       "            window._Plotly = Plotly;\n",
       "        });\n",
       "        }\n",
       "        </script>\n",
       "        "
      ]
     },
     "metadata": {},
     "output_type": "execute_result"
    },
    {
     "data": {
      "text/html": [
       "<div>\n",
       "        \n",
       "        \n",
       "            <div id=\"683a711b-28a9-4ef6-8410-4acf5c11ecdf\" class=\"plotly-graph-div\" style=\"height:525px; width:100%;\"></div>\n",
       "            <script type=\"text/javascript\">\n",
       "                require([\"plotly\"], function(Plotly) {\n",
       "                    window.PLOTLYENV=window.PLOTLYENV || {};\n",
       "                    window.PLOTLYENV.BASE_URL='https://plot.ly';\n",
       "                    \n",
       "                if (document.getElementById(\"683a711b-28a9-4ef6-8410-4acf5c11ecdf\")) {\n",
       "                    Plotly.newPlot(\n",
       "                        '683a711b-28a9-4ef6-8410-4acf5c11ecdf',\n",
       "                        [{\"close\": [\"309.760\", \"309.760\", \"309.760\", \"309.952\", \"307.628\", \"307.858\", \"307.858\", \"307.710\", \"307.710\", \"307.710\", \"307.497\", \"307.910\", \"307.980\", \"308.070\", \"308.036\"], \"high\": [\"309.760\", \"309.760\", \"309.760\", \"309.952\", \"307.628\", \"307.858\", \"307.920\", \"307.710\", \"307.710\", \"307.760\", \"307.603\", \"307.910\", \"308.256\", \"308.070\", \"308.298\"], \"low\": [\"309.760\", \"309.760\", \"309.760\", \"308.059\", \"307.628\", \"307.858\", \"307.858\", \"307.710\", \"307.710\", \"307.710\", \"307.497\", \"307.910\", \"307.980\", \"307.981\", \"308.036\"], \"open\": [\"309.760\", \"309.760\", \"309.760\", \"308.059\", \"307.628\", \"307.858\", \"307.920\", \"307.710\", \"307.710\", \"307.760\", \"307.603\", \"307.910\", \"308.256\", \"307.983\", \"308.298\"], \"type\": \"candlestick\", \"uid\": \"8d01accc-da05-4695-913f-5abc41613366\", \"x\": [\"2019-06-24 09:30:00\", \"2019-06-24 09:29:00\", \"2019-06-24 09:28:00\", \"2019-06-24 09:27:00\", \"2019-06-24 09:26:00\", \"2019-06-24 09:25:00\", \"2019-06-24 09:24:00\", \"2019-06-24 09:23:00\", \"2019-06-24 09:22:00\", \"2019-06-24 09:21:00\", \"2019-06-24 09:20:00\", \"2019-06-24 09:19:00\", \"2019-06-24 09:18:00\", \"2019-06-24 09:17:00\", \"2019-06-24 09:16:00\"]}],\n",
       "                        {},\n",
       "                        {\"showLink\": false, \"linkText\": \"Export to plot.ly\", \"plotlyServerURL\": \"https://plot.ly\", \"responsive\": true}\n",
       "                    ).then(function(){\n",
       "                            \n",
       "var gd = document.getElementById('683a711b-28a9-4ef6-8410-4acf5c11ecdf');\n",
       "var x = new MutationObserver(function (mutations, observer) {{\n",
       "        var display = window.getComputedStyle(gd).display;\n",
       "        if (!display || display === 'none') {{\n",
       "            console.log([gd, 'removed!']);\n",
       "            Plotly.purge(gd);\n",
       "            observer.disconnect();\n",
       "        }}\n",
       "}});\n",
       "\n",
       "// Listen for the removal of the full notebook cells\n",
       "var notebookContainer = gd.closest('#notebook-container');\n",
       "if (notebookContainer) {{\n",
       "    x.observe(notebookContainer, {childList: true});\n",
       "}}\n",
       "\n",
       "// Listen for the clearing of the current output cell\n",
       "var outputEl = gd.closest('.output');\n",
       "if (outputEl) {{\n",
       "    x.observe(outputEl, {childList: true});\n",
       "}}\n",
       "\n",
       "                        })\n",
       "                };\n",
       "                });\n",
       "            </script>\n",
       "        </div>"
      ]
     },
     "metadata": {},
     "output_type": "execute_result"
    }
   ],
   "source": [
    "import plotly.graph_objs as go\n",
    "from plotly.offline import download_plotlyjs, init_notebook_mode, iplot\n",
    "init_notebook_mode(connected=True)\n",
    "trace = go.Candlestick(x=df['time'], open=df['open'], high=df['high'], low=df['low'], close=df['close'])\n",
    "iplot([trace])"
   ]
  },
  {
   "cell_type": "code",
   "execution_count": 5,
   "metadata": {},
   "outputs": [
    {
     "data": {
      "text/plain": [
       "{'accountName': 'shanti-cybex',\n",
       " 'positions': [{'assetName': 'CYB', 'available': 249.51995, 'frozen': 0},\n",
       "  {'assetName': 'ETH', 'available': 0.01009, 'frozen': 0},\n",
       "  {'assetName': 'USDT', 'available': 7.966423, 'frozen': 0}],\n",
       " 'time': '2019-06-24T09:30:19.288397Z'}"
      ]
     },
     "execution_count": 5,
     "metadata": {},
     "output_type": "execute_result"
    }
   ],
   "source": [
    "cybex.fetch_balance()"
   ]
  },
  {
   "cell_type": "code",
   "execution_count": 6,
   "metadata": {},
   "outputs": [
    {
     "name": "stdout",
     "output_type": "stream",
     "text": [
      "order_msg {'transactionType': 'NewLimitOrder', 'transactionId': '0d1a2acf9e9a41a0bc741ad5be0477a08bd6b827', 'refBlockNum': 63832, 'refBlockPrefix': 104544041, 'txExpiration': 1561451418, 'fee': {'assetId': '1.3.0', 'amount': 55}, 'seller': '1.2.49853', 'amountToSell': {'assetId': '1.3.27', 'amount': 2800000}, 'minToReceive': {'assetId': '1.3.2', 'amount': 10000}, 'expiration': 1561420799, 'fill_or_kill': 0, 'signature': '1f6bec4140365fd80267e9668a5b81f287f00ba0f6058e94e57cbccfb4f20245c62b8cdd4f7bff8004f17afd9158ed6b2c1ef804232f0bb9570201e851957ec664', 'isBuy': 0}\n"
     ]
    }
   ],
   "source": [
    "order_transaction_id, result = cybex.create_limit_buy_order('ETH/USDT', 0.01, 280)"
   ]
  },
  {
   "cell_type": "code",
   "execution_count": 7,
   "metadata": {},
   "outputs": [
    {
     "name": "stdout",
     "output_type": "stream",
     "text": [
      "{'transactionType': 'Cancel', 'transactionId': '923d14ce8f5c9d66eefcc3965e01492dc09bd0e9', 'originalTransactionId': '0d1a2acf9e9a41a0bc741ad5be0477a08bd6b827', 'refBlockNum': 63832, 'refBlockPrefix': 104544041, 'txExpiration': 1561451418, 'orderId': '0', 'fee': {'assetId': '1.3.0', 'amount': 5}, 'feePayingAccount': '1.2.49853', 'signature': '1f01d5941466f74f70366cb0d0c6940d0a3976adeb5aec9a568eda387169bbfd2f67b09363d0a6c6f3dea3ea13cbf0f059c1a90ada4648d2e0ef7ea3e7d49a85d3'}\n"
     ]
    },
    {
     "data": {
      "text/plain": [
       "{'Status': 'Successful',\n",
       " 'signature': '1f01d5941466f74f70366cb0d0c6940d0a3976adeb5aec9a568eda387169bbfd2f67b09363d0a6c6f3dea3ea13cbf0f059c1a90ada4648d2e0ef7ea3e7d49a85d3',\n",
       " 'time': '2019-06-24T09:30:19.475180Z'}"
      ]
     },
     "execution_count": 7,
     "metadata": {},
     "output_type": "execute_result"
    }
   ],
   "source": [
    "cybex.cancel_order(order_transaction_id)"
   ]
  },
  {
   "cell_type": "code",
   "execution_count": null,
   "metadata": {},
   "outputs": [],
   "source": []
  }
 ],
 "metadata": {
  "kernelspec": {
   "display_name": "Python 3",
   "language": "python",
   "name": "python3"
  },
  "language_info": {
   "codemirror_mode": {
    "name": "ipython",
    "version": 3
   },
   "file_extension": ".py",
   "mimetype": "text/x-python",
   "name": "python",
   "nbconvert_exporter": "python",
   "pygments_lexer": "ipython3",
   "version": "3.7.1"
  }
 },
 "nbformat": 4,
 "nbformat_minor": 2
}
