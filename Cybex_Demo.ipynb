{
 "cells": [
  {
   "cell_type": "markdown",
   "metadata": {},
   "source": [
    "### Step 1. Install RomeAPI and cybex-demo"
   ]
  },
  {
   "cell_type": "code",
   "execution_count": 10,
   "metadata": {},
   "outputs": [
    {
     "name": "stdout",
     "output_type": "stream",
     "text": [
      "Requirement already satisfied: romeapi in c:\\users\\danie\\anaconda3\\lib\\site-packages (0.1.5)\n",
      "Requirement already satisfied: requests in c:\\users\\danie\\anaconda3\\lib\\site-packages (from romeapi) (2.21.0)\n",
      "Requirement already satisfied: graphenelib==0.6.1 in c:\\users\\danie\\anaconda3\\lib\\site-packages (from romeapi) (0.6.1)\n",
      "Requirement already satisfied: coincurve in c:\\users\\danie\\anaconda3\\lib\\site-packages (from romeapi) (12.0.0)\n",
      "Requirement already satisfied: certifi>=2017.4.17 in c:\\users\\danie\\anaconda3\\lib\\site-packages (from requests->romeapi) (2019.3.9)\n",
      "Requirement already satisfied: chardet<3.1.0,>=3.0.2 in c:\\users\\danie\\anaconda3\\lib\\site-packages (from requests->romeapi) (3.0.4)\n",
      "Requirement already satisfied: urllib3<1.25,>=1.21.1 in c:\\users\\danie\\anaconda3\\lib\\site-packages (from requests->romeapi) (1.24.1)\n",
      "Requirement already satisfied: idna<2.9,>=2.5 in c:\\users\\danie\\anaconda3\\lib\\site-packages (from requests->romeapi) (2.8)\n",
      "Requirement already satisfied: websocket-client in c:\\users\\danie\\anaconda3\\lib\\site-packages (from graphenelib==0.6.1->romeapi) (0.56.0)\n",
      "Requirement already satisfied: ecdsa in c:\\users\\danie\\anaconda3\\lib\\site-packages (from graphenelib==0.6.1->romeapi) (0.13.2)\n",
      "Requirement already satisfied: pylibscrypt in c:\\users\\danie\\anaconda3\\lib\\site-packages (from graphenelib==0.6.1->romeapi) (1.8.0)\n",
      "Requirement already satisfied: pycryptodome in c:\\users\\danie\\anaconda3\\lib\\site-packages (from graphenelib==0.6.1->romeapi) (3.8.2)\n",
      "Requirement already satisfied: cffi>=1.3.0 in c:\\users\\danie\\anaconda3\\lib\\site-packages (from coincurve->romeapi) (1.12.2)\n",
      "Requirement already satisfied: asn1crypto in c:\\users\\danie\\anaconda3\\lib\\site-packages (from coincurve->romeapi) (0.24.0)\n",
      "Requirement already satisfied: six in c:\\users\\danie\\anaconda3\\lib\\site-packages (from websocket-client->graphenelib==0.6.1->romeapi) (1.12.0)\n",
      "Requirement already satisfied: pycparser in c:\\users\\danie\\anaconda3\\lib\\site-packages (from cffi>=1.3.0->coincurve->romeapi) (2.19)\n",
      "Note: you may need to restart the kernel to use updated packages.\n"
     ]
    }
   ],
   "source": [
    "pip install romeapi"
   ]
  },
  {
   "cell_type": "markdown",
   "metadata": {},
   "source": [
    "### Step 2. Log into dex.cybex.io account\n",
    "###### A demo dex.cybex.io account has already been created"
   ]
  },
  {
   "cell_type": "code",
   "execution_count": 11,
   "metadata": {},
   "outputs": [
    {
     "name": "stderr",
     "output_type": "stream",
     "text": [
      "C:\\Users\\danie\\Anaconda3\\lib\\site-packages\\urllib3\\connectionpool.py:847: InsecureRequestWarning: Unverified HTTPS request is being made. Adding certificate verification is strongly advised. See: https://urllib3.readthedocs.io/en/latest/advanced-usage.html#ssl-warnings\n",
      "  InsecureRequestWarning)\n"
     ]
    }
   ],
   "source": [
    "cybex = Cybex(accountName=\"cybexdemo01\", password=\"CybexDemo.01\", env=\"prod\")"
   ]
  },
  {
   "cell_type": "markdown",
   "metadata": {},
   "source": [
    "### Step 3. Show current balance\n",
    "###### (Arena.ETH and Arena.USDT are for demo purposes)"
   ]
  },
  {
   "cell_type": "code",
   "execution_count": 12,
   "metadata": {},
   "outputs": [
    {
     "data": {
      "text/plain": [
       "{'accountName': 'cybexdemo01',\n",
       " 'positions': [{'assetName': 'ARENA.ETH', 'available': 10, 'frozen': 0},\n",
       "  {'assetName': 'ARENA.USDT', 'available': 10000, 'frozen': 0},\n",
       "  {'assetName': 'CYB', 'available': 9.99975, 'frozen': 0}],\n",
       " 'time': '2019-06-21T04:23:40.756582Z'}"
      ]
     },
     "execution_count": 12,
     "metadata": {},
     "output_type": "execute_result"
    }
   ],
   "source": [
    "cybex.fetch_balance()"
   ]
  },
  {
   "cell_type": "markdown",
   "metadata": {},
   "source": [
    "###  Step 4. Show order book for BTC/USDT"
   ]
  },
  {
   "cell_type": "code",
   "execution_count": 13,
   "metadata": {},
   "outputs": [
    {
     "data": {
      "text/plain": [
       "{'assetPair': 'BTC/USDT',\n",
       " 'bids': [['9716.57', '0.00342327', '33.262448'],\n",
       "  ['9715.15', '0.00514004', '49.936277']],\n",
       " 'asks': [['9771.14', '0.00514004', '50.224025'],\n",
       "  ['9774.05', '0.01542014', '150.717096']],\n",
       " 'time': '2019-06-21T04:23:48.164651Z'}"
      ]
     },
     "execution_count": 13,
     "metadata": {},
     "output_type": "execute_result"
    }
   ],
   "source": [
    "cybex.fetch_order_book(\"BTC/USDT\", 2)\n"
   ]
  },
  {
   "cell_type": "markdown",
   "metadata": {},
   "source": [
    "### Step 5. create order using demo coins: buy 0.01 ARENA.ETH at 280 ARENA.USDT"
   ]
  },
  {
   "cell_type": "code",
   "execution_count": 14,
   "metadata": {},
   "outputs": [
    {
     "name": "stdout",
     "output_type": "stream",
     "text": [
      "order_msg {'transactionType': 'NewLimitOrder', 'transactionId': 'ad8fd535b3ca085646f461996fc939ad537db78d', 'refBlockNum': 42984, 'refBlockPrefix': 3400606216, 'txExpiration': 1561173859, 'fee': {'assetId': '1.3.0', 'amount': 55}, 'seller': '1.2.53553', 'amountToSell': {'assetId': '1.3.1148', 'amount': 2800000}, 'minToReceive': {'assetId': '1.3.1149', 'amount': 10000}, 'expiration': 1561161599, 'fill_or_kill': 0, 'signature': '2014fe55e501c48274156737308bcab9b957fd95a8b83d98cdecb7cafb318142b055e7292e5fc322366c0cbba9efc6d25a64f19699be3b49055ecff849ea6115ea', 'isBuy': 1}\n"
     ]
    },
    {
     "data": {
      "text/plain": [
       "{'Status': 'Successful',\n",
       " 'orderSequence': 282357,\n",
       " 'signature': '2014fe55e501c48274156737308bcab9b957fd95a8b83d98cdecb7cafb318142b055e7292e5fc322366c0cbba9efc6d25a64f19699be3b49055ecff849ea6115ea',\n",
       " 'time': '2019-06-21T04:24:19.956058Z'}"
      ]
     },
     "execution_count": 14,
     "metadata": {},
     "output_type": "execute_result"
    }
   ],
   "source": [
    "order_transaction_id, result = cybex.create_limit_buy_order('ARENA.ETH/ARENA.USDT', 0.01, 280)\n",
    "result"
   ]
  },
  {
   "cell_type": "markdown",
   "metadata": {},
   "source": [
    "### Step 6. Cancel buy order"
   ]
  },
  {
   "cell_type": "code",
   "execution_count": 15,
   "metadata": {},
   "outputs": [
    {
     "name": "stdout",
     "output_type": "stream",
     "text": [
      "{'transactionType': 'Cancel', 'transactionId': 'e04aea36589793647acda7b0c26cc3a7e1005420', 'originalTransactionId': 'ad8fd535b3ca085646f461996fc939ad537db78d', 'refBlockNum': 42984, 'refBlockPrefix': 3400606216, 'txExpiration': 1561173862, 'orderId': '0', 'fee': {'assetId': '1.3.0', 'amount': 5}, 'feePayingAccount': '1.2.53553', 'signature': '205cec0f8cebddf594effb11904d569e1c26c2a9ac9c127d66c638f18b15c5482208d79c35081d4bfef6fc23698f7cdbb8e72bffe30f53aac50ca2ec7f1e1cf111'}\n"
     ]
    },
    {
     "data": {
      "text/plain": [
       "{'Status': 'Successful',\n",
       " 'signature': '205cec0f8cebddf594effb11904d569e1c26c2a9ac9c127d66c638f18b15c5482208d79c35081d4bfef6fc23698f7cdbb8e72bffe30f53aac50ca2ec7f1e1cf111',\n",
       " 'time': '2019-06-21T04:24:23.182591Z'}"
      ]
     },
     "execution_count": 15,
     "metadata": {},
     "output_type": "execute_result"
    }
   ],
   "source": [
    "cybex.cancel_order(order_transaction_id)\n"
   ]
  },
  {
   "cell_type": "code",
   "execution_count": null,
   "metadata": {},
   "outputs": [],
   "source": []
  }
 ],
 "metadata": {
  "kernelspec": {
   "display_name": "Python 3",
   "language": "python",
   "name": "python3"
  },
  "language_info": {
   "codemirror_mode": {
    "name": "ipython",
    "version": 3
   },
   "file_extension": ".py",
   "mimetype": "text/x-python",
   "name": "python",
   "nbconvert_exporter": "python",
   "pygments_lexer": "ipython3",
   "version": "3.7.3"
  }
 },
 "nbformat": 4,
 "nbformat_minor": 2
}
